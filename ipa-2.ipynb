{
 "cells": [
  {
   "cell_type": "code",
   "execution_count": 19,
   "id": "ba18926f-c287-4dd0-bcaf-bc877c337785",
   "metadata": {},
   "outputs": [],
   "source": [
    "def shift_letter(letter, shift):\n",
    "    '''Shift Letter.\n",
    "    5 points.\n",
    "\n",
    "    Shift a letter right by the given number.\n",
    "    Wrap the letter around if it reaches the end of the alphabet.\n",
    "\n",
    "    Examples:\n",
    "    shift_letter(\"A\", 0) -> \"A\"\n",
    "    shift_letter(\"A\", 2) -> \"C\"\n",
    "    shift_letter(\"Z\", 1) -> \"A\"\n",
    "    shift_letter(\"X\", 5) -> \"C\"\n",
    "    shift_letter(\" \", _) -> \" \"\n",
    "\n",
    "    *Note: the single underscore `_` is used to acknowledge the presence\n",
    "        of a value without caring about its contents.\n",
    "\n",
    "    Parameters\n",
    "    ----------\n",
    "    letter: str\n",
    "        a single uppercase English letter, or a space.\n",
    "    shift: int\n",
    "        the number by which to shift the letter.\n",
    "\n",
    "    Returns\n",
    "    -------\n",
    "    str\n",
    "        the letter, shifted appropriately, if a letter.\n",
    "        a single space if the original letter was a space.\n",
    "    '''\n",
    "    # Replace `pass` with your code.\n",
    "    # Stay within the function. Only use the parameters as input. The function should return your answer.  \n",
    "    alphabet = \"ABCDEFGHIJKLMNOPQRSTUVWXYZ\"\n",
    "    \n",
    "    if letter == \" \":\n",
    "        shift_letter = \" \"\n",
    "    else:\n",
    "        for char in alphabet:\n",
    "            if letter == char:\n",
    "                i = alphabet.index(char)\n",
    "\n",
    "        next_i = (i + shift)%26\n",
    "        shift_letter = alphabet[next_i]\n",
    "\n",
    "    return(shift_letter)"
   ]
  },
  {
   "cell_type": "code",
   "execution_count": 20,
   "id": "92071c60-90c0-4fec-a9c5-b929c3b89e97",
   "metadata": {},
   "outputs": [
    {
     "data": {
      "text/plain": [
       "'A'"
      ]
     },
     "execution_count": 20,
     "metadata": {},
     "output_type": "execute_result"
    }
   ],
   "source": [
    "shift_letter(\"Z\",1)"
   ]
  },
  {
   "cell_type": "code",
   "execution_count": 10,
   "id": "f06960aa-6f4f-4c90-8a65-c668cd87b0c2",
   "metadata": {},
   "outputs": [],
   "source": [
    "def caesar_cipher(message, shift):\n",
    "    '''Caesar Cipher.\n",
    "    10 points.\n",
    "\n",
    "    Apply a shift number to a string of uppercase English letters and spaces.\n",
    "\n",
    "    Parameters\n",
    "    ----------\n",
    "    message: str\n",
    "        a string of uppercase English letters and spaces.\n",
    "    shift: int\n",
    "        the number by which to shift the letters.\n",
    "\n",
    "    Returns\n",
    "    -------\n",
    "    str\n",
    "        the message, shifted appropriately.\n",
    "    '''\n",
    "    # Replace `pass` with your code.\n",
    "    # Stay within the function. Only use the parameters as input. The function should return your answer.\n",
    "    alphabet = \"ABCDEFGHIJKLMNOPQRSTUVWXYZ \"\n",
    "    caesar_cipher = \"\"\n",
    "\n",
    "    for char in message:\n",
    "        i = alphabet.index(char)\n",
    "        next_i = (i + shift)%27\n",
    "        shift_letter = alphabet[next_i]\n",
    "        caesar_cipher = caesar_cipher + shift_letter\n",
    "    return(caesar_cipher)"
   ]
  },
  {
   "cell_type": "code",
   "execution_count": 11,
   "id": "97f5c491-2b4a-4549-b0b1-f2414587b328",
   "metadata": {},
   "outputs": [
    {
     "data": {
      "text/plain": [
       "'JABNAOJOB'"
      ]
     },
     "execution_count": 11,
     "metadata": {},
     "output_type": "execute_result"
    }
   ],
   "source": [
    "caesar_cipher(\"I AM NINA\",1)"
   ]
  },
  {
   "cell_type": "code",
   "execution_count": 8,
   "id": "14ce0a3c-4f40-4c5d-8a53-12bfbb478ca9",
   "metadata": {},
   "outputs": [],
   "source": [
    "def shift_by_letter(letter, letter_shift):\n",
    "    '''Shift By Letter.\n",
    "    10 points.\n",
    "\n",
    "    Shift a letter to the right using the number equivalent of another letter.\n",
    "    The shift letter is any letter from A to Z, where A represents 0, B represents 1,\n",
    "        ..., Z represents 25.\n",
    "\n",
    "    Examples:\n",
    "    shift_by_letter(\"A\", \"A\") -> \"A\"\n",
    "    shift_by_letter(\"A\", \"C\") -> \"C\"\n",
    "    shift_by_letter(\"B\", \"K\") -> \"L\"\n",
    "    shift_by_letter(\" \", _) -> \" \"\n",
    "\n",
    "    Parameters\n",
    "    ----------\n",
    "    letter: str\n",
    "        a single uppercase English letter, or a space.\n",
    "    letter_shift: str\n",
    "        a single uppercase English letter.\n",
    "\n",
    "    Returns\n",
    "    -------\n",
    "    str\n",
    "        the letter, shifted appropriately.\n",
    "    '''\n",
    "    # Replace `pass` with your code.\n",
    "    # Stay within the function. Only use the parameters as input. The function should return your answer.\n",
    "    alphabet = \"ABCDEFGHIJKLMNOPQRSTUVWXYZ\"\n",
    "    \n",
    "    if letter == \" \":\n",
    "        shift_by_letter = \" \"\n",
    "    else:\n",
    "        for char in alphabet:\n",
    "            if letter == char:\n",
    "                i = alphabet.index(char)\n",
    "                shift = alphabet.index(letter_shift)\n",
    "\n",
    "        next_i = (i + shift)%26\n",
    "        shift_by_letter = alphabet[next_i]\n",
    "\n",
    "    return(shift_by_letter)"
   ]
  },
  {
   "cell_type": "code",
   "execution_count": 9,
   "id": "a1bd75ea-7ee4-42a7-abd4-ca799108d36a",
   "metadata": {},
   "outputs": [
    {
     "data": {
      "text/plain": [
       "'L'"
      ]
     },
     "execution_count": 9,
     "metadata": {},
     "output_type": "execute_result"
    }
   ],
   "source": [
    "shift_by_letter(\"B\",\"K\")"
   ]
  },
  {
   "cell_type": "code",
   "execution_count": 4,
   "id": "513fb967-a096-4e11-83b9-19bb65926307",
   "metadata": {},
   "outputs": [],
   "source": [
    "def vigenere_cipher(message, key):\n",
    "    '''Vigenere Cipher.\n",
    "    15 points.\n",
    "\n",
    "    Encrypts a message using a keyphrase instead of a static number.\n",
    "    Every letter in the message is shifted by the number represented by the\n",
    "        respective letter in the key.\n",
    "    Spaces should be ignored.\n",
    "\n",
    "    Example:\n",
    "    vigenere_cipher(\"A C\", \"KEY\") -> \"K A\"\n",
    "\n",
    "    If needed, the keyphrase is extended to match the length of the key.\n",
    "        If the key is \"KEY\" and the message is \"LONGTEXT\",\n",
    "        the key will be extended to be \"KEYKEYKE\".\n",
    "\n",
    "    Parameters\n",
    "    ----------\n",
    "    message: str\n",
    "        a string of uppercase English letters and spaces.\n",
    "    key: str\n",
    "        a string of uppercase English letters. Will never be longer than the message.\n",
    "        Will never contain spaces.\n",
    "\n",
    "    Returns\n",
    "    -------\n",
    "    str\n",
    "        the message, shifted appropriately.\n",
    "    '''\n",
    "    # Replace `pass` with your code.\n",
    "    # Stay within the function. Only use the parameters as input. The function should return your answer.\n",
    "    alphabet = \"ABCDEFGHIJKLMNOPQRSTUVWXYZ \"\n",
    "    vigenere_cipher = \"\"\n",
    "    key_index = 0 \n",
    "    for char in message:\n",
    "        if char == \" \":\n",
    "            shift_letter = \" \"\n",
    "        else:\n",
    "            message_i = alphabet.index(char)\n",
    "            key_letter = key[key_index % len(key)]\n",
    "            key_i = alphabet.index(key_letter)\n",
    "            next_i = (key_i + message_i)%26\n",
    "            shift_letter = alphabet[next_i]\n",
    "        vigenere_cipher = vigenere_cipher + shift_letter\n",
    "        key_index +=1\n",
    "    return (vigenere_cipher)"
   ]
  },
  {
   "cell_type": "code",
   "execution_count": 6,
   "id": "b3a164a9-f33b-46a3-8ac8-7b04c3a16f9a",
   "metadata": {},
   "outputs": [
    {
     "data": {
      "text/plain": [
       "'K A'"
      ]
     },
     "execution_count": 6,
     "metadata": {},
     "output_type": "execute_result"
    }
   ],
   "source": [
    "vigenere_cipher(\"A C\", \"KEY\")"
   ]
  },
  {
   "cell_type": "code",
   "execution_count": 14,
   "id": "7dc33381-5d3d-484d-a01d-d4325b6c840a",
   "metadata": {},
   "outputs": [],
   "source": [
    "def scytale_cipher(message, shift):\n",
    "    '''Scytale Cipher.\n",
    "    15 points.\n",
    "\n",
    "    Encrypts a message by simulating a scytale cipher.\n",
    "\n",
    "    A scytale is a cylinder around which you can wrap a long strip of\n",
    "        parchment that contained a string of apparent gibberish. The parchment,\n",
    "        when read using the scytale, would reveal a message due to every nth\n",
    "        letter now appearing next to each other, revealing a proper message.\n",
    "    This encryption method is obsolete and should never be used to encrypt\n",
    "        data in production settings.\n",
    "\n",
    "    You may read more about the method here:\n",
    "        https://en.wikipedia.org/wiki/Scytale\n",
    "\n",
    "    You may follow this algorithm to implement a scytale-style cipher:\n",
    "    1. Take a message to be encoded and a \"shift\" number.\n",
    "        For this example, we will use \"INFORMATION_AGE\" as\n",
    "        the message and 3 as the shift.\n",
    "    2. Check if the length of the message is a multiple of\n",
    "        the shift. If it is not, add additional underscores\n",
    "        to the end of the message until it is.\n",
    "        In this example, \"INFORMATION_AGE\" is already a multiple of 3,\n",
    "        so we will leave it alone.\n",
    "    3. This is the tricky part. Construct the encoded message.\n",
    "        For each index i in the encoded message, use the character at the index\n",
    "        (i // shift) + (len(message) // shift) * (i % shift) of the raw message.\n",
    "        If this number doesn't make sense, you can play around with the cipher at\n",
    "         https://dencode.com/en/cipher/scytale to try to understand it.\n",
    "    4. Return the encoded message. In this case,\n",
    "        the output should be \"IMNNA_FTAOIGROE\".\n",
    "\n",
    "    Example:\n",
    "    scytale_cipher(\"INFORMATION_AGE\", 3) -> \"IMNNA_FTAOIGROE\"\n",
    "    scytale_cipher(\"INFORMATION_AGE\", 4) -> \"IRIANMOGFANEOT__\"\n",
    "    scytale_cipher(\"ALGORITHMS_ARE_IMPORTANT\", 8) -> \"AOTSRIOALRH_EMRNGIMA_PTT\"\n",
    "\n",
    "    Parameters\n",
    "    ----------\n",
    "    message: str\n",
    "        a string of uppercase English letters and underscores (underscores represent spaces)\n",
    "    shift: int\n",
    "        a positive int that does not exceed the length of message\n",
    "\n",
    "    Returns\n",
    "    -------\n",
    "    str\n",
    "        the encoded message\n",
    "    '''\n",
    "    # Replace `pass` with your code.\n",
    "    # Stay within the function. Only use the parameters as input. The function should return your answer.\n",
    "    scytale_cipher = \"\"\n",
    "    \n",
    "    while len(message) % shift != 0:\n",
    "        message = message + \"_\"\n",
    "    \n",
    "    for i in range(len(message)):\n",
    "        shift_index = (i // shift) + (len(message) // shift) * (i % shift)\n",
    "        shift_letter = message[shift_index]\n",
    "        scytale_cipher = scytale_cipher + shift_letter\n",
    "        \n",
    "    return(scytale_cipher)"
   ]
  },
  {
   "cell_type": "code",
   "execution_count": 15,
   "id": "2b8b51b1-d8cc-4529-a4f5-d5d7ac35de2e",
   "metadata": {},
   "outputs": [
    {
     "data": {
      "text/plain": [
       "'IRIANMOGFANEOT__'"
      ]
     },
     "execution_count": 15,
     "metadata": {},
     "output_type": "execute_result"
    }
   ],
   "source": [
    "scytale_cipher(\"INFORMATION_AGE\",4)"
   ]
  },
  {
   "cell_type": "code",
   "execution_count": 16,
   "id": "65762b11-1f2a-4ade-830f-537c06c45485",
   "metadata": {},
   "outputs": [],
   "source": [
    "def scytale_decipher(message, shift):\n",
    "    '''Scytale De-cipher.\n",
    "    15 points.\n",
    "\n",
    "    Decrypts a message that was originally encrypted with the `scytale_cipher` function above.\n",
    "\n",
    "    Example:\n",
    "    scytale_decipher(\"IMNNA_FTAOIGROE\", 3) -> \"INFORMATION_AGE\"\n",
    "    scytale_decipher(\"AOTSRIOALRH_EMRNGIMA_PTT\", 8) -> \"ALGORITHMS_ARE_IMPORTANT\"\n",
    "    scytale_decipher(\"IRIANMOGFANEOT__\", 4) -> \"INFORMATION_AGE_\"\n",
    "\n",
    "    There is no further brief for this number.\n",
    "\n",
    "    Parameters\n",
    "    ----------\n",
    "    message: str\n",
    "        a string of uppercase English letters and underscores (underscores represent spaces)\n",
    "    shift: int\n",
    "        a positive int that does not exceed the length of message\n",
    "\n",
    "    Returns\n",
    "    -------\n",
    "    str\n",
    "        the decoded message\n",
    "    '''\n",
    "    # Replace `pass` with your code.\n",
    "    # Stay within the function. Only use the parameters as input. The function should return your answer.\n",
    "    scytale_decipher = \"\"\n",
    "\n",
    "    for i in range(len(message)):\n",
    "        shift_index = (i // (len(message)// shift)) + (i % (len(message) // shift)) * shift\n",
    "        shift_letter = message[shift_index]\n",
    "        scytale_decipher = scytale_decipher + shift_letter\n",
    "        \n",
    "    return(scytale_decipher)"
   ]
  },
  {
   "cell_type": "code",
   "execution_count": 17,
   "id": "28f88a41-12ab-4c32-94f6-699cd0c00db5",
   "metadata": {},
   "outputs": [
    {
     "data": {
      "text/plain": [
       "'INFORMATION_AGE_'"
      ]
     },
     "execution_count": 17,
     "metadata": {},
     "output_type": "execute_result"
    }
   ],
   "source": [
    "scytale_decipher(\"IRIANMOGFANEOT__\",4)"
   ]
  },
  {
   "cell_type": "code",
   "execution_count": null,
   "id": "2fb428ef-8ef3-40a6-85f0-f8491a0c6502",
   "metadata": {},
   "outputs": [],
   "source": []
  }
 ],
 "metadata": {
  "kernelspec": {
   "display_name": "Python 3 (ipykernel)",
   "language": "python",
   "name": "python3"
  },
  "language_info": {
   "codemirror_mode": {
    "name": "ipython",
    "version": 3
   },
   "file_extension": ".py",
   "mimetype": "text/x-python",
   "name": "python",
   "nbconvert_exporter": "python",
   "pygments_lexer": "ipython3",
   "version": "3.10.9"
  }
 },
 "nbformat": 4,
 "nbformat_minor": 5
}
